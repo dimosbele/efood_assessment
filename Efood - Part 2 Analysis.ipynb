{
 "cells": [
  {
   "cell_type": "code",
   "execution_count": 1,
   "id": "8af14771",
   "metadata": {},
   "outputs": [],
   "source": [
    "# Contact info:\n",
    "# Dimosthenis Beleveslis\n",
    "# d.beleveslis@gmail.com"
   ]
  },
  {
   "cell_type": "markdown",
   "id": "f755bb0d",
   "metadata": {},
   "source": [
    "# Efood Assessment: Part II - Analyze Users"
   ]
  },
  {
   "cell_type": "markdown",
   "id": "1f337d58",
   "metadata": {},
   "source": [
    "## 1) Import python libraries"
   ]
  },
  {
   "cell_type": "code",
   "execution_count": 2,
   "id": "5a1f02ba",
   "metadata": {},
   "outputs": [],
   "source": [
    "# Imports\n",
    "import pandas as pd\n",
    "import numpy as np\n",
    "import datetime as dt\n",
    "\n",
    "# Pandas display options\n",
    "pd.set_option('display.max_columns',1000)\n",
    "pd.set_option('display.max_rows',1000)"
   ]
  },
  {
   "cell_type": "markdown",
   "id": "7147102c",
   "metadata": {},
   "source": [
    "## 2) Read data"
   ]
  },
  {
   "cell_type": "code",
   "execution_count": 3,
   "id": "edb4028b",
   "metadata": {},
   "outputs": [],
   "source": [
    "df = pd.read_csv('Data/orders.csv')"
   ]
  },
  {
   "cell_type": "code",
   "execution_count": 4,
   "id": "de6a4ba1",
   "metadata": {},
   "outputs": [
    {
     "data": {
      "text/html": [
       "<div>\n",
       "<style scoped>\n",
       "    .dataframe tbody tr th:only-of-type {\n",
       "        vertical-align: middle;\n",
       "    }\n",
       "\n",
       "    .dataframe tbody tr th {\n",
       "        vertical-align: top;\n",
       "    }\n",
       "\n",
       "    .dataframe thead th {\n",
       "        text-align: right;\n",
       "    }\n",
       "</style>\n",
       "<table border=\"1\" class=\"dataframe\">\n",
       "  <thead>\n",
       "    <tr style=\"text-align: right;\">\n",
       "      <th></th>\n",
       "      <th>order_id</th>\n",
       "      <th>user_id</th>\n",
       "      <th>order_timestamp</th>\n",
       "      <th>city</th>\n",
       "      <th>cuisine</th>\n",
       "      <th>paid_cash</th>\n",
       "      <th>amount</th>\n",
       "    </tr>\n",
       "  </thead>\n",
       "  <tbody>\n",
       "    <tr>\n",
       "      <th>0</th>\n",
       "      <td>7322173742136</td>\n",
       "      <td>94223136441</td>\n",
       "      <td>2022-01-18 15:41:28 UTC</td>\n",
       "      <td>Αίγιο</td>\n",
       "      <td>Breakfast</td>\n",
       "      <td>True</td>\n",
       "      <td>3.6</td>\n",
       "    </tr>\n",
       "    <tr>\n",
       "      <th>1</th>\n",
       "      <td>7210978616924</td>\n",
       "      <td>204794985423</td>\n",
       "      <td>2022-01-02 17:50:50 UTC</td>\n",
       "      <td>Αγρίνιο</td>\n",
       "      <td>Breakfast</td>\n",
       "      <td>True</td>\n",
       "      <td>1.9</td>\n",
       "    </tr>\n",
       "    <tr>\n",
       "      <th>2</th>\n",
       "      <td>7221232906132</td>\n",
       "      <td>12703920390</td>\n",
       "      <td>2022-01-04 08:37:12 UTC</td>\n",
       "      <td>Αγρίνιο</td>\n",
       "      <td>Breakfast</td>\n",
       "      <td>True</td>\n",
       "      <td>1.7</td>\n",
       "    </tr>\n",
       "    <tr>\n",
       "      <th>3</th>\n",
       "      <td>7399605199800</td>\n",
       "      <td>673310109528</td>\n",
       "      <td>2022-01-31 11:33:05 UTC</td>\n",
       "      <td>Λιβαδειά</td>\n",
       "      <td>Breakfast</td>\n",
       "      <td>True</td>\n",
       "      <td>3.0</td>\n",
       "    </tr>\n",
       "    <tr>\n",
       "      <th>4</th>\n",
       "      <td>7264221279744</td>\n",
       "      <td>673310109528</td>\n",
       "      <td>2022-01-10 11:18:28 UTC</td>\n",
       "      <td>Λιβαδειά</td>\n",
       "      <td>Breakfast</td>\n",
       "      <td>True</td>\n",
       "      <td>3.0</td>\n",
       "    </tr>\n",
       "  </tbody>\n",
       "</table>\n",
       "</div>"
      ],
      "text/plain": [
       "        order_id       user_id          order_timestamp      city    cuisine  \\\n",
       "0  7322173742136   94223136441  2022-01-18 15:41:28 UTC     Αίγιο  Breakfast   \n",
       "1  7210978616924  204794985423  2022-01-02 17:50:50 UTC   Αγρίνιο  Breakfast   \n",
       "2  7221232906132   12703920390  2022-01-04 08:37:12 UTC   Αγρίνιο  Breakfast   \n",
       "3  7399605199800  673310109528  2022-01-31 11:33:05 UTC  Λιβαδειά  Breakfast   \n",
       "4  7264221279744  673310109528  2022-01-10 11:18:28 UTC  Λιβαδειά  Breakfast   \n",
       "\n",
       "   paid_cash  amount  \n",
       "0       True     3.6  \n",
       "1       True     1.9  \n",
       "2       True     1.7  \n",
       "3       True     3.0  \n",
       "4       True     3.0  "
      ]
     },
     "execution_count": 4,
     "metadata": {},
     "output_type": "execute_result"
    }
   ],
   "source": [
    "df.head()"
   ]
  },
  {
   "cell_type": "code",
   "execution_count": 5,
   "id": "3f8e40c8",
   "metadata": {},
   "outputs": [
    {
     "data": {
      "text/plain": [
       "(534270, 7)"
      ]
     },
     "execution_count": 5,
     "metadata": {},
     "output_type": "execute_result"
    }
   ],
   "source": [
    "df.shape"
   ]
  },
  {
   "cell_type": "markdown",
   "id": "e7850da5",
   "metadata": {},
   "source": [
    "## 3) EDA"
   ]
  },
  {
   "cell_type": "code",
   "execution_count": 6,
   "id": "77455f62",
   "metadata": {},
   "outputs": [
    {
     "name": "stdout",
     "output_type": "stream",
     "text": [
      "- There are 534270 rows.\n",
      "- There are 534270 unique orders.\n",
      "-- So, each row corresponds to a unique order.\n"
     ]
    }
   ],
   "source": [
    "# Number of (unique) orders\n",
    "print('- There are', len(df.order_id), 'rows.')\n",
    "print('- There are', df.order_id.nunique(), 'unique orders.')\n",
    "print('-- So, each row corresponds to a unique order.')"
   ]
  },
  {
   "cell_type": "code",
   "execution_count": 7,
   "id": "0120f726",
   "metadata": {},
   "outputs": [
    {
     "name": "stdout",
     "output_type": "stream",
     "text": [
      "- There are 121943 unique customers.\n",
      "-- So, there are customers that have ordered more than once.\n"
     ]
    }
   ],
   "source": [
    "# Number of (unique) customers\n",
    "print('- There are', df.user_id.nunique(), 'unique customers.')\n",
    "print('-- So, there are customers that have ordered more than once.')"
   ]
  },
  {
   "cell_type": "code",
   "execution_count": 8,
   "id": "d35411f4",
   "metadata": {},
   "outputs": [
    {
     "data": {
      "text/html": [
       "<div>\n",
       "<style scoped>\n",
       "    .dataframe tbody tr th:only-of-type {\n",
       "        vertical-align: middle;\n",
       "    }\n",
       "\n",
       "    .dataframe tbody tr th {\n",
       "        vertical-align: top;\n",
       "    }\n",
       "\n",
       "    .dataframe thead th {\n",
       "        text-align: right;\n",
       "    }\n",
       "</style>\n",
       "<table border=\"1\" class=\"dataframe\">\n",
       "  <thead>\n",
       "    <tr style=\"text-align: right;\">\n",
       "      <th></th>\n",
       "      <th>user_id</th>\n",
       "    </tr>\n",
       "  </thead>\n",
       "  <tbody>\n",
       "    <tr>\n",
       "      <th>154559060124</th>\n",
       "      <td>135</td>\n",
       "    </tr>\n",
       "    <tr>\n",
       "      <th>104460666828</th>\n",
       "      <td>107</td>\n",
       "    </tr>\n",
       "    <tr>\n",
       "      <th>119884693362</th>\n",
       "      <td>105</td>\n",
       "    </tr>\n",
       "    <tr>\n",
       "      <th>32214575190</th>\n",
       "      <td>100</td>\n",
       "    </tr>\n",
       "    <tr>\n",
       "      <th>247344644274</th>\n",
       "      <td>88</td>\n",
       "    </tr>\n",
       "    <tr>\n",
       "      <th>131345003580</th>\n",
       "      <td>87</td>\n",
       "    </tr>\n",
       "    <tr>\n",
       "      <th>88909070628</th>\n",
       "      <td>77</td>\n",
       "    </tr>\n",
       "    <tr>\n",
       "      <th>476333229792</th>\n",
       "      <td>74</td>\n",
       "    </tr>\n",
       "    <tr>\n",
       "      <th>17562694464</th>\n",
       "      <td>71</td>\n",
       "    </tr>\n",
       "    <tr>\n",
       "      <th>117577441989</th>\n",
       "      <td>71</td>\n",
       "    </tr>\n",
       "  </tbody>\n",
       "</table>\n",
       "</div>"
      ],
      "text/plain": [
       "              user_id\n",
       "154559060124      135\n",
       "104460666828      107\n",
       "119884693362      105\n",
       "32214575190       100\n",
       "247344644274       88\n",
       "131345003580       87\n",
       "88909070628        77\n",
       "476333229792       74\n",
       "17562694464        71\n",
       "117577441989       71"
      ]
     },
     "execution_count": 8,
     "metadata": {},
     "output_type": "execute_result"
    }
   ],
   "source": [
    "# Top-10 customers based on the order frequency\n",
    "df.user_id.value_counts(normalize=False).to_frame().head(10)"
   ]
  },
  {
   "cell_type": "code",
   "execution_count": 9,
   "id": "c3e8b861",
   "metadata": {},
   "outputs": [
    {
     "data": {
      "text/html": [
       "<div>\n",
       "<style scoped>\n",
       "    .dataframe tbody tr th:only-of-type {\n",
       "        vertical-align: middle;\n",
       "    }\n",
       "\n",
       "    .dataframe tbody tr th {\n",
       "        vertical-align: top;\n",
       "    }\n",
       "\n",
       "    .dataframe thead th {\n",
       "        text-align: right;\n",
       "    }\n",
       "</style>\n",
       "<table border=\"1\" class=\"dataframe\">\n",
       "  <thead>\n",
       "    <tr style=\"text-align: right;\">\n",
       "      <th></th>\n",
       "      <th>amount</th>\n",
       "    </tr>\n",
       "    <tr>\n",
       "      <th>user_id</th>\n",
       "      <th></th>\n",
       "    </tr>\n",
       "  </thead>\n",
       "  <tbody>\n",
       "    <tr>\n",
       "      <th>485537911656</th>\n",
       "      <td>1351.50</td>\n",
       "    </tr>\n",
       "    <tr>\n",
       "      <th>154559060124</th>\n",
       "      <td>945.40</td>\n",
       "    </tr>\n",
       "    <tr>\n",
       "      <th>629495492640</th>\n",
       "      <td>863.05</td>\n",
       "    </tr>\n",
       "    <tr>\n",
       "      <th>119884693362</th>\n",
       "      <td>839.95</td>\n",
       "    </tr>\n",
       "    <tr>\n",
       "      <th>589547556318</th>\n",
       "      <td>796.00</td>\n",
       "    </tr>\n",
       "    <tr>\n",
       "      <th>581230298733</th>\n",
       "      <td>690.80</td>\n",
       "    </tr>\n",
       "    <tr>\n",
       "      <th>264820653468</th>\n",
       "      <td>630.10</td>\n",
       "    </tr>\n",
       "    <tr>\n",
       "      <th>104460666828</th>\n",
       "      <td>621.50</td>\n",
       "    </tr>\n",
       "    <tr>\n",
       "      <th>42248071740</th>\n",
       "      <td>611.20</td>\n",
       "    </tr>\n",
       "    <tr>\n",
       "      <th>318015134094</th>\n",
       "      <td>583.30</td>\n",
       "    </tr>\n",
       "  </tbody>\n",
       "</table>\n",
       "</div>"
      ],
      "text/plain": [
       "               amount\n",
       "user_id              \n",
       "485537911656  1351.50\n",
       "154559060124   945.40\n",
       "629495492640   863.05\n",
       "119884693362   839.95\n",
       "589547556318   796.00\n",
       "581230298733   690.80\n",
       "264820653468   630.10\n",
       "104460666828   621.50\n",
       "42248071740    611.20\n",
       "318015134094   583.30"
      ]
     },
     "execution_count": 9,
     "metadata": {},
     "output_type": "execute_result"
    }
   ],
   "source": [
    "# Top-10 customers based on the total order value\n",
    "df.groupby('user_id').amount.sum().to_frame().sort_values(by='amount', ascending=False).head(10)"
   ]
  },
  {
   "cell_type": "code",
   "execution_count": 10,
   "id": "bb12145f",
   "metadata": {},
   "outputs": [
    {
     "name": "stdout",
     "output_type": "stream",
     "text": [
      "Time period: 2022-01-01 00:06:07 UTC  -  2022-01-31 23:59:53 UTC\n"
     ]
    }
   ],
   "source": [
    "# Time period\n",
    "df.order_timestamp.min()\n",
    "df.order_timestamp.max()\n",
    "print('Time period:', df.order_timestamp.min(), ' - ', df.order_timestamp.max())"
   ]
  },
  {
   "cell_type": "code",
   "execution_count": 11,
   "id": "56ce1bff",
   "metadata": {},
   "outputs": [
    {
     "data": {
      "text/plain": [
       "count    534270.000000\n",
       "mean          8.522366\n",
       "std           6.095029\n",
       "min           0.400000\n",
       "25%           4.600000\n",
       "50%           6.700000\n",
       "75%          10.800000\n",
       "max         204.800000\n",
       "Name: amount, dtype: float64"
      ]
     },
     "execution_count": 11,
     "metadata": {},
     "output_type": "execute_result"
    }
   ],
   "source": [
    "# Basic statistics for amount (= order value)\n",
    "df.amount.describe()"
   ]
  },
  {
   "cell_type": "code",
   "execution_count": 12,
   "id": "f58db087",
   "metadata": {},
   "outputs": [
    {
     "name": "stdout",
     "output_type": "stream",
     "text": [
      "order_id           0\n",
      "user_id            0\n",
      "order_timestamp    0\n",
      "city               0\n",
      "cuisine            0\n",
      "paid_cash          0\n",
      "amount             0\n",
      "dtype: int64\n",
      "- There are no missing values in the dataset.\n"
     ]
    }
   ],
   "source": [
    "# Cecking if there are missing values\n",
    "print(df.isnull().sum(axis=0))\n",
    "print('- There are no missing values in the dataset.')"
   ]
  },
  {
   "cell_type": "code",
   "execution_count": 13,
   "id": "1b94c68e",
   "metadata": {},
   "outputs": [
    {
     "data": {
      "text/plain": [
       "array(['Αίγιο', 'Αγρίνιο', 'Λιβαδειά', 'Λαμία', 'Βόλος', 'Λάρισα',\n",
       "       'Ιωάννινα', 'Φλώρινα', 'Νάουσα', 'Δράμα', 'Ξάνθη',\n",
       "       'Αλεξανδρούπολη', 'Ρόδος', 'Άργος', 'Ναύπλιο', 'Ζάκυνθος',\n",
       "       'Μεσολόγγι', 'Λευκάδα', 'Θήβα', 'Άρτα', 'Γρεβενά', 'Γιαννιτσά',\n",
       "       'Βέροια', 'Αλεξάνδρεια', 'Ορεστιάδα', 'Διδυμότειχο', 'Λέρος',\n",
       "       'Γύθειο', 'Αμαλιάδα', 'Ναύπακτος', 'Αράχωβα', 'Έδεσσα', 'Αίγινα',\n",
       "       'Νάξος', 'Αλίαρτος', 'Οινόφυτα', 'Μεγαλόπολη', 'Ιστιαία',\n",
       "       'Μύκονος', 'Λεωνίδιο', 'Βασιλικό', 'Γαργαλιάνοι', 'Αριδαία',\n",
       "       'Φιλιατρά', 'Ηγουμενίτσα', 'Άνδρος'], dtype=object)"
      ]
     },
     "execution_count": 13,
     "metadata": {},
     "output_type": "execute_result"
    }
   ],
   "source": [
    "df.city.unique()"
   ]
  },
  {
   "cell_type": "markdown",
   "id": "6cf74619",
   "metadata": {},
   "source": [
    "# Segment existing customers based on their frequency and order value"
   ]
  },
  {
   "cell_type": "markdown",
   "id": "81092518",
   "metadata": {},
   "source": [
    "## 4) Customer segmentation based on RFM analysis"
   ]
  },
  {
   "cell_type": "markdown",
   "id": "1828f51b",
   "metadata": {},
   "source": [
    "<b>RFM</b> stands for Recency, Frequency, and Monetary value </br>\n",
    "- <b>Recency</b>: How recently a customer made an order. </br>\n",
    "- <b>Frequency</b>: How often customers make an order. </br>\n",
    "- <b>Monetary Value</b>: How much a customer spends on orders. (We have used 'amount' for this) </br>"
   ]
  },
  {
   "cell_type": "markdown",
   "id": "a90329b3",
   "metadata": {},
   "source": [
    "### 4.1) Preprocess dataset"
   ]
  },
  {
   "cell_type": "code",
   "execution_count": 14,
   "id": "4b227c13",
   "metadata": {},
   "outputs": [],
   "source": [
    "# convert timestamp to datetime\n",
    "df['order_timestamp_2'] = pd.to_datetime(df['order_timestamp'])\n",
    "# convert datetime to date\n",
    "df['Date_Order'] = df['order_timestamp_2'].dt.date"
   ]
  },
  {
   "cell_type": "code",
   "execution_count": 15,
   "id": "8397bc98",
   "metadata": {},
   "outputs": [
    {
     "data": {
      "text/plain": [
       "datetime.date(2022, 2, 1)"
      ]
     },
     "execution_count": 15,
     "metadata": {},
     "output_type": "execute_result"
    }
   ],
   "source": [
    "# As we mentioned above, the last order date is '2022-01-31'. \n",
    "# So, we assume that '2022-02-01' is the current date and we calculate recency based on that.\n",
    "current_date = dt.date(2022, 2, 1)\n",
    "current_date"
   ]
  },
  {
   "cell_type": "code",
   "execution_count": 16,
   "id": "aa139e57",
   "metadata": {},
   "outputs": [],
   "source": [
    "# create a df with the 3 metrics (Recency, Frequency, Monetary_value) \n",
    "df_rfm = df.groupby('user_id').agg({'Date_Order': lambda x: (current_date - x.max()).days,\n",
    "                                          'order_id': lambda x: len(x),\n",
    "                                          'amount': lambda x: x.sum()})\n",
    "\n",
    "# rename the columns of the dataframe\n",
    "df_rfm = df_rfm.rename(columns={'Date_Order': 'Recency', \n",
    "                         'order_id': 'Frequency', \n",
    "                         'amount': 'Monetary_value'})"
   ]
  },
  {
   "cell_type": "code",
   "execution_count": 17,
   "id": "1c7c95b9",
   "metadata": {},
   "outputs": [],
   "source": [
    "# Split the ranges of each of the 3 metrics to 4 groups\n",
    "df_rfm[\"R\"] = pd.qcut(df_rfm[\"Recency\"],4,labels=[1,2,3,4])\n",
    "df_rfm[\"F\"] = pd.qcut(df_rfm[\"Frequency\"],5,labels=[4,3,2,1], duplicates='drop')\n",
    "df_rfm[\"M\"] = pd.qcut(df_rfm[\"Monetary_value\"],4,labels=[4,3,2,1])"
   ]
  },
  {
   "cell_type": "code",
   "execution_count": 18,
   "id": "b94c44be",
   "metadata": {},
   "outputs": [],
   "source": [
    "# Create a column with the 3 metrics (R, F, M) merged as one.\n",
    "# e.g. R=1, F=2, M=4 ---> RFM=124\n",
    "df_rfm[\"RFM\"] = df_rfm[\"R\"].astype(str) +df_rfm[\"F\"].astype(str) + df_rfm[\"M\"].astype(str)"
   ]
  },
  {
   "cell_type": "code",
   "execution_count": 19,
   "id": "98ea7e3c",
   "metadata": {},
   "outputs": [],
   "source": [
    "# Create a column with the RFM_Score which is the sum of the digits of the RFM metric\n",
    "df_rfm[\"RFM_Score\"] = df_rfm[\"RFM\"].apply(lambda x: sum(int(i) for i in x))\n",
    "\n",
    "# The lower the RFM_Score is, the better the customer is\n",
    "df_rfm = df_rfm.sort_values(by=['RFM_Score'])"
   ]
  },
  {
   "cell_type": "markdown",
   "id": "cd3edb3b",
   "metadata": {},
   "source": [
    "### 4.2) Segmentation based on RFM_Score"
   ]
  },
  {
   "cell_type": "markdown",
   "id": "649e0fde",
   "metadata": {},
   "source": [
    "We will create 4 segments as following:\n",
    "- <b>1.Passionate efooders</b>: Very loyal and worthy customers\n",
    "- <b>2.Promising efooders</b>: Often ordering from efood\n",
    "- <b>3.Struggling users</b>: Ordering from efood once in a while\n",
    "- <b>4.Lost users</b>: Ordered from efood but have stopped"
   ]
  },
  {
   "cell_type": "code",
   "execution_count": 20,
   "id": "41902211",
   "metadata": {},
   "outputs": [],
   "source": [
    "# Assign a segment name base on the RFM_Score\n",
    "df_rfm['Segment'] = df_rfm['RFM_Score'].apply(lambda x: '1.Passionate efooders' if x<5\n",
    "                                  else '2.Promising efooders' if x<7\n",
    "                                  else '3.Struggling users' if x<10 # \n",
    "                                    else '4.Lost users'\n",
    "                                  )"
   ]
  },
  {
   "cell_type": "code",
   "execution_count": 21,
   "id": "0e3779fd",
   "metadata": {},
   "outputs": [
    {
     "data": {
      "text/html": [
       "<div>\n",
       "<style scoped>\n",
       "    .dataframe tbody tr th:only-of-type {\n",
       "        vertical-align: middle;\n",
       "    }\n",
       "\n",
       "    .dataframe tbody tr th {\n",
       "        vertical-align: top;\n",
       "    }\n",
       "\n",
       "    .dataframe thead th {\n",
       "        text-align: right;\n",
       "    }\n",
       "</style>\n",
       "<table border=\"1\" class=\"dataframe\">\n",
       "  <thead>\n",
       "    <tr style=\"text-align: right;\">\n",
       "      <th></th>\n",
       "      <th>Recency</th>\n",
       "      <th>Frequency</th>\n",
       "      <th>Monetary_value</th>\n",
       "      <th>R</th>\n",
       "      <th>F</th>\n",
       "      <th>M</th>\n",
       "      <th>RFM</th>\n",
       "      <th>RFM_Score</th>\n",
       "      <th>Segment</th>\n",
       "    </tr>\n",
       "    <tr>\n",
       "      <th>user_id</th>\n",
       "      <th></th>\n",
       "      <th></th>\n",
       "      <th></th>\n",
       "      <th></th>\n",
       "      <th></th>\n",
       "      <th></th>\n",
       "      <th></th>\n",
       "      <th></th>\n",
       "      <th></th>\n",
       "    </tr>\n",
       "  </thead>\n",
       "  <tbody>\n",
       "    <tr>\n",
       "      <th>193851034776</th>\n",
       "      <td>23</td>\n",
       "      <td>2</td>\n",
       "      <td>17.7</td>\n",
       "      <td>4</td>\n",
       "      <td>4</td>\n",
       "      <td>3</td>\n",
       "      <td>443</td>\n",
       "      <td>11</td>\n",
       "      <td>4.Lost users</td>\n",
       "    </tr>\n",
       "    <tr>\n",
       "      <th>142328156670</th>\n",
       "      <td>3</td>\n",
       "      <td>1</td>\n",
       "      <td>4.5</td>\n",
       "      <td>1</td>\n",
       "      <td>4</td>\n",
       "      <td>4</td>\n",
       "      <td>144</td>\n",
       "      <td>9</td>\n",
       "      <td>3.Struggling users</td>\n",
       "    </tr>\n",
       "    <tr>\n",
       "      <th>656959326891</th>\n",
       "      <td>5</td>\n",
       "      <td>10</td>\n",
       "      <td>80.5</td>\n",
       "      <td>2</td>\n",
       "      <td>1</td>\n",
       "      <td>1</td>\n",
       "      <td>211</td>\n",
       "      <td>4</td>\n",
       "      <td>1.Passionate efooders</td>\n",
       "    </tr>\n",
       "    <tr>\n",
       "      <th>88910105676</th>\n",
       "      <td>1</td>\n",
       "      <td>3</td>\n",
       "      <td>16.6</td>\n",
       "      <td>1</td>\n",
       "      <td>3</td>\n",
       "      <td>3</td>\n",
       "      <td>133</td>\n",
       "      <td>7</td>\n",
       "      <td>3.Struggling users</td>\n",
       "    </tr>\n",
       "    <tr>\n",
       "      <th>30246431418</th>\n",
       "      <td>7</td>\n",
       "      <td>1</td>\n",
       "      <td>28.9</td>\n",
       "      <td>2</td>\n",
       "      <td>4</td>\n",
       "      <td>2</td>\n",
       "      <td>242</td>\n",
       "      <td>8</td>\n",
       "      <td>3.Struggling users</td>\n",
       "    </tr>\n",
       "    <tr>\n",
       "      <th>283791660117</th>\n",
       "      <td>5</td>\n",
       "      <td>5</td>\n",
       "      <td>56.9</td>\n",
       "      <td>2</td>\n",
       "      <td>2</td>\n",
       "      <td>1</td>\n",
       "      <td>221</td>\n",
       "      <td>5</td>\n",
       "      <td>2.Promising efooders</td>\n",
       "    </tr>\n",
       "    <tr>\n",
       "      <th>308904124074</th>\n",
       "      <td>1</td>\n",
       "      <td>9</td>\n",
       "      <td>52.3</td>\n",
       "      <td>1</td>\n",
       "      <td>1</td>\n",
       "      <td>1</td>\n",
       "      <td>111</td>\n",
       "      <td>3</td>\n",
       "      <td>1.Passionate efooders</td>\n",
       "    </tr>\n",
       "    <tr>\n",
       "      <th>599772277986</th>\n",
       "      <td>2</td>\n",
       "      <td>2</td>\n",
       "      <td>10.0</td>\n",
       "      <td>1</td>\n",
       "      <td>4</td>\n",
       "      <td>4</td>\n",
       "      <td>144</td>\n",
       "      <td>9</td>\n",
       "      <td>3.Struggling users</td>\n",
       "    </tr>\n",
       "    <tr>\n",
       "      <th>673312050243</th>\n",
       "      <td>3</td>\n",
       "      <td>13</td>\n",
       "      <td>64.0</td>\n",
       "      <td>1</td>\n",
       "      <td>1</td>\n",
       "      <td>1</td>\n",
       "      <td>111</td>\n",
       "      <td>3</td>\n",
       "      <td>1.Passionate efooders</td>\n",
       "    </tr>\n",
       "    <tr>\n",
       "      <th>355949643294</th>\n",
       "      <td>24</td>\n",
       "      <td>1</td>\n",
       "      <td>19.3</td>\n",
       "      <td>4</td>\n",
       "      <td>4</td>\n",
       "      <td>3</td>\n",
       "      <td>443</td>\n",
       "      <td>11</td>\n",
       "      <td>4.Lost users</td>\n",
       "    </tr>\n",
       "  </tbody>\n",
       "</table>\n",
       "</div>"
      ],
      "text/plain": [
       "              Recency  Frequency  Monetary_value  R  F  M  RFM  RFM_Score  \\\n",
       "user_id                                                                     \n",
       "193851034776       23          2            17.7  4  4  3  443         11   \n",
       "142328156670        3          1             4.5  1  4  4  144          9   \n",
       "656959326891        5         10            80.5  2  1  1  211          4   \n",
       "88910105676         1          3            16.6  1  3  3  133          7   \n",
       "30246431418         7          1            28.9  2  4  2  242          8   \n",
       "283791660117        5          5            56.9  2  2  1  221          5   \n",
       "308904124074        1          9            52.3  1  1  1  111          3   \n",
       "599772277986        2          2            10.0  1  4  4  144          9   \n",
       "673312050243        3         13            64.0  1  1  1  111          3   \n",
       "355949643294       24          1            19.3  4  4  3  443         11   \n",
       "\n",
       "                            Segment  \n",
       "user_id                              \n",
       "193851034776           4.Lost users  \n",
       "142328156670     3.Struggling users  \n",
       "656959326891  1.Passionate efooders  \n",
       "88910105676      3.Struggling users  \n",
       "30246431418      3.Struggling users  \n",
       "283791660117   2.Promising efooders  \n",
       "308904124074  1.Passionate efooders  \n",
       "599772277986     3.Struggling users  \n",
       "673312050243  1.Passionate efooders  \n",
       "355949643294           4.Lost users  "
      ]
     },
     "execution_count": 21,
     "metadata": {},
     "output_type": "execute_result"
    }
   ],
   "source": [
    "# print 10 random users and the Segment that they belong tp\n",
    "df_rfm.sample(10)"
   ]
  },
  {
   "cell_type": "code",
   "execution_count": 22,
   "id": "246c3596",
   "metadata": {},
   "outputs": [
    {
     "data": {
      "text/html": [
       "<div>\n",
       "<style scoped>\n",
       "    .dataframe tbody tr th:only-of-type {\n",
       "        vertical-align: middle;\n",
       "    }\n",
       "\n",
       "    .dataframe tbody tr th {\n",
       "        vertical-align: top;\n",
       "    }\n",
       "\n",
       "    .dataframe thead th {\n",
       "        text-align: right;\n",
       "    }\n",
       "</style>\n",
       "<table border=\"1\" class=\"dataframe\">\n",
       "  <thead>\n",
       "    <tr style=\"text-align: right;\">\n",
       "      <th></th>\n",
       "      <th>Perc(%)</th>\n",
       "    </tr>\n",
       "  </thead>\n",
       "  <tbody>\n",
       "    <tr>\n",
       "      <th>1.Passionate efooders</th>\n",
       "      <td>19.5</td>\n",
       "    </tr>\n",
       "    <tr>\n",
       "      <th>2.Promising efooders</th>\n",
       "      <td>15.7</td>\n",
       "    </tr>\n",
       "    <tr>\n",
       "      <th>3.Struggling users</th>\n",
       "      <td>26.8</td>\n",
       "    </tr>\n",
       "    <tr>\n",
       "      <th>4.Lost users</th>\n",
       "      <td>38.0</td>\n",
       "    </tr>\n",
       "  </tbody>\n",
       "</table>\n",
       "</div>"
      ],
      "text/plain": [
       "                       Perc(%)\n",
       "1.Passionate efooders     19.5\n",
       "2.Promising efooders      15.7\n",
       "3.Struggling users        26.8\n",
       "4.Lost users              38.0"
      ]
     },
     "execution_count": 22,
     "metadata": {},
     "output_type": "execute_result"
    }
   ],
   "source": [
    "# print the percentage of users that belong to each segment\n",
    "df_segments = df_rfm.Segment.value_counts(normalize=True).to_frame()*100\n",
    "df_segments.round(1).rename(columns={'Segment':'Perc(%)'}).sort_index()"
   ]
  },
  {
   "cell_type": "markdown",
   "id": "1f1bd3b9",
   "metadata": {},
   "source": [
    "## 5) Choose segment for a Marketing campaign about Breakfast that could increase loyalty"
   ]
  },
  {
   "cell_type": "markdown",
   "id": "33bd637b",
   "metadata": {},
   "source": [
    "Loyalty is highly correlated with the frequency of ordering. Thus, a customer that orders often is considered to be loyal. The target group of the Marketing campaign should be a segment that contains customers that can potentially like ordering breakfast and can potentially become more loyal (increase their frequency and value).\n",
    "\n",
    "So, the Marketing team should not target to the 'best' (1. Passionate efooders) or to the 'worst' (4.Lost users) segments. The target group should be one of the '2.Promising efooders', '3.Struggling users' or both.\n",
    "\n",
    "Below we investigate which of the 2 above segments ('2.Promising efooders', '3.Struggling users') contain more customers that order breakfast."
   ]
  },
  {
   "cell_type": "code",
   "execution_count": 23,
   "id": "ed3204cd",
   "metadata": {},
   "outputs": [],
   "source": [
    "# create a new dataframe with the segment of each unique customer\n",
    "df_cust_segments = df_rfm.reset_index()[['user_id', 'Segment']]"
   ]
  },
  {
   "cell_type": "code",
   "execution_count": 24,
   "id": "dce84fc8",
   "metadata": {},
   "outputs": [],
   "source": [
    "# Merge the above dataframe with the initial dataframe\n",
    "df_cs = df[['user_id', 'cuisine']].merge(df_cust_segments, left_on=['user_id'], right_on=['user_id'], how='left')"
   ]
  },
  {
   "cell_type": "code",
   "execution_count": 25,
   "id": "c9e724cf",
   "metadata": {},
   "outputs": [],
   "source": [
    "# create a dataframe with the number of orders in each segment\n",
    "df_so = df_cs['Segment'].value_counts().to_frame().reset_index()\n",
    "df_so = df_so.rename(columns={'index':'Segment', 'Segment':'N'})"
   ]
  },
  {
   "cell_type": "code",
   "execution_count": 26,
   "id": "b872ae4d",
   "metadata": {},
   "outputs": [
    {
     "data": {
      "text/html": [
       "<div>\n",
       "<style scoped>\n",
       "    .dataframe tbody tr th:only-of-type {\n",
       "        vertical-align: middle;\n",
       "    }\n",
       "\n",
       "    .dataframe tbody tr th {\n",
       "        vertical-align: top;\n",
       "    }\n",
       "\n",
       "    .dataframe thead th {\n",
       "        text-align: right;\n",
       "    }\n",
       "</style>\n",
       "<table border=\"1\" class=\"dataframe\">\n",
       "  <thead>\n",
       "    <tr style=\"text-align: right;\">\n",
       "      <th></th>\n",
       "      <th>Segment</th>\n",
       "      <th>cuisine</th>\n",
       "      <th>N_Breakfast</th>\n",
       "      <th>N</th>\n",
       "      <th>Perc(%)</th>\n",
       "    </tr>\n",
       "  </thead>\n",
       "  <tbody>\n",
       "    <tr>\n",
       "      <th>0</th>\n",
       "      <td>1.Passionate efooders</td>\n",
       "      <td>Breakfast</td>\n",
       "      <td>132105</td>\n",
       "      <td>291292</td>\n",
       "      <td>45.4</td>\n",
       "    </tr>\n",
       "    <tr>\n",
       "      <th>1</th>\n",
       "      <td>2.Promising efooders</td>\n",
       "      <td>Breakfast</td>\n",
       "      <td>33689</td>\n",
       "      <td>99341</td>\n",
       "      <td>33.9</td>\n",
       "    </tr>\n",
       "    <tr>\n",
       "      <th>2</th>\n",
       "      <td>3.Struggling users</td>\n",
       "      <td>Breakfast</td>\n",
       "      <td>24833</td>\n",
       "      <td>83750</td>\n",
       "      <td>29.7</td>\n",
       "    </tr>\n",
       "    <tr>\n",
       "      <th>3</th>\n",
       "      <td>4.Lost users</td>\n",
       "      <td>Breakfast</td>\n",
       "      <td>17336</td>\n",
       "      <td>59887</td>\n",
       "      <td>28.9</td>\n",
       "    </tr>\n",
       "  </tbody>\n",
       "</table>\n",
       "</div>"
      ],
      "text/plain": [
       "                 Segment    cuisine  N_Breakfast       N  Perc(%)\n",
       "0  1.Passionate efooders  Breakfast       132105  291292     45.4\n",
       "1   2.Promising efooders  Breakfast        33689   99341     33.9\n",
       "2     3.Struggling users  Breakfast        24833   83750     29.7\n",
       "3           4.Lost users  Breakfast        17336   59887     28.9"
      ]
     },
     "execution_count": 26,
     "metadata": {},
     "output_type": "execute_result"
    }
   ],
   "source": [
    "# calculate the percentage of breakfast orders in each segment\n",
    "df_cs = df_cs.groupby(['Segment', 'cuisine']).user_id.count().to_frame().reset_index()\n",
    "df_cs = df_cs[df_cs.cuisine=='Breakfast']\n",
    "df_cs = df_cs.rename(columns={'user_id':'N_Breakfast'})\n",
    "df_cs = df_cs.merge(df_so, left_on=['Segment'], right_on=['Segment'], how='left')\n",
    "df_cs['Perc(%)'] = (df_cs['N_Breakfast']/df_cs['N'])*100\n",
    "df_cs['Perc(%)'] = df_cs['Perc(%)'].round(1)\n",
    "df_cs"
   ]
  },
  {
   "cell_type": "markdown",
   "id": "5b0aabfe",
   "metadata": {},
   "source": [
    "- 33.9% of the orders in segment '2.Promising efooders' are from Breakfast cuisine. While the 29.7% of the orders in Segment '3.Struggling users' are from Breakfast cuisine. </br>\n",
    "- Hence, if we need to select only one segmet, we would select segment '2.Promising efooders' because they are already more interested in ordering this specific type of food (breakfast)."
   ]
  },
  {
   "cell_type": "code",
   "execution_count": null,
   "id": "fe33a732",
   "metadata": {},
   "outputs": [],
   "source": []
  }
 ],
 "metadata": {
  "kernelspec": {
   "display_name": "Python 3 (ipykernel)",
   "language": "python",
   "name": "python3"
  },
  "language_info": {
   "codemirror_mode": {
    "name": "ipython",
    "version": 3
   },
   "file_extension": ".py",
   "mimetype": "text/x-python",
   "name": "python",
   "nbconvert_exporter": "python",
   "pygments_lexer": "ipython3",
   "version": "3.7.7"
  }
 },
 "nbformat": 4,
 "nbformat_minor": 5
}
